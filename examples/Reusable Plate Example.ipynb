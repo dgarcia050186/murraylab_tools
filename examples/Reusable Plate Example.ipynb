{
 "cells": [
  {
   "cell_type": "markdown",
   "metadata": {},
   "source": [
    "## Reusable Plates\n",
    "First, we show how to create a reusable plate and fill it with materials."
   ]
  },
  {
   "cell_type": "code",
   "execution_count": 1,
   "metadata": {
    "collapsed": false
   },
   "outputs": [
    {
     "name": "stdout",
     "output_type": "stream",
     "text": [
      "reusable_plate.materials_to_add {}\n",
      "Refilling Well A1 with additional material Mat1.\n",
      "Suppressing an Error due to overfull plates and filling to the maximum allowed instead.\n",
      "reusable_plate.materials_to_add {}\n",
      "reusable_plate.materials_to_add {}\n",
      "Plate Volume Variables (nL):\n",
      "Plate max fill volume: 65000\n",
      "Plate dead volume: 21000\n",
      "Max Usable volume of each material 44000\n"
     ]
    },
    {
     "name": "stderr",
     "output_type": "stream",
     "text": [
      "C:\\Users\\wp_ix\\Anaconda3\\lib\\site-packages\\murraylab_tools-0.1-py3.7.egg\\murraylab_tools\\echo\\echo_functions.py:1685: UserWarning: Adding volume=0.0<=0 of Mat1 to A1. Unecessary step omitted.\n",
      "  warnings.warn(\"Adding volume=\"+str(volume)+\"<=0 of \"+name+\" to \"+well+\". Unecessary step omitted.\")\n",
      "C:\\Users\\wp_ix\\Anaconda3\\lib\\site-packages\\murraylab_tools-0.1-py3.7.egg\\murraylab_tools\\echo\\echo_functions.py:1685: UserWarning: Adding volume=0.0<=0 of Mat2 to A2. Unecessary step omitted.\n",
      "  warnings.warn(\"Adding volume=\"+str(volume)+\"<=0 of \"+name+\" to \"+well+\". Unecessary step omitted.\")\n"
     ]
    }
   ],
   "source": [
    "import murraylab_tools.echo as mt_echo\n",
    "import os.path\n",
    "import numpy as np\n",
    "\n",
    "# Relevant input and output files. Check these out for examples of input file format.\n",
    "dilution_inputs  = os.path.join(\"reusable_plate_examples\", \"inputs\")\n",
    "dilution_outputs = os.path.join(\"reusable_plate_examples\", \"outputs\")\n",
    "plate_file  = os.path.join(dilution_inputs, \"reusable_plate.dat\") # Keeps track of wells used\n",
    "output_name = os.path.join(dilution_outputs, \"reusable_plate_example\") # Output\n",
    "\n",
    "#Create a Reusable Plate by setting reuse_wells=True\n",
    "#NOTE: This can also be done by hand by creating a CSV with the columns: well,name,concentration,volume,date\n",
    "\n",
    "reusable_plate = mt_echo.SourcePlate(filename = plate_file, reuse_wells = True)\n",
    "\n",
    "#We will add three arbitary materials to the plate CSV\n",
    "#Create three materials\n",
    "concentrations = [200, 500]\n",
    "mat1 = mt_echo.EchoSourceMaterial('Mat1', concentrations[0], 0, reusable_plate)\n",
    "mat2 = mt_echo.EchoSourceMaterial('Mat2', concentrations[1], 0, reusable_plate)\n",
    "water= mt_echo.EchoSourceMaterial('water', 1, 0, reusable_plate)\n",
    "\n",
    "print(\"reusable_plate.materials_to_add\", reusable_plate.materials_to_add)\n",
    "try:\n",
    "    reusable_plate.add_material_to_well(\"A1\", mat1, mt_echo.max_volume)\n",
    "    reusable_plate.add_material_to_well(\"A2\", mat2, mt_echo.max_volume)\n",
    "except ValueError:\n",
    "    print(\"Suppressing an Error due to overfull plates and filling to the maximum allowed instead.\")\n",
    "    reusable_plate.add_material_to_well(\"A1\", mat1, mt_echo.max_volume-reusable_plate.wells_used[\"A1\"][2])\n",
    "    reusable_plate.add_material_to_well(\"A2\", mat2, mt_echo.max_volume-reusable_plate.wells_used[\"A2\"][2])\n",
    "\n",
    "print(\"reusable_plate.materials_to_add\", reusable_plate.materials_to_add)\n",
    "reusable_plate.write_to_file() #Save the file\n",
    "print(\"reusable_plate.materials_to_add\", reusable_plate.materials_to_add)\n",
    "\n",
    "print(\"Plate Volume Variables (nL):\")\n",
    "print(\"Plate max fill volume:\", mt_echo.max_volume)\n",
    "print(\"Plate dead volume:\", mt_echo.dead_volume)\n",
    "print(\"Max Usable volume of each material\", mt_echo.max_volume-mt_echo.dead_volume)"
   ]
  },
  {
   "cell_type": "markdown",
   "metadata": {},
   "source": [
    "### Once a plate is created, it can be used in multiple experiments as demonstrated below.\n",
    "\n",
    "This process will generate N_experiments picklists, all using a single source plate. In the initial few experiments, the initially filled wells will be drained. Instructions will then appear asking the user to fill additional wells. After running many times, the source plate will run out of wells and an error will be thrown."
   ]
  },
  {
   "cell_type": "code",
   "execution_count": 2,
   "metadata": {
    "collapsed": false
   },
   "outputs": [
    {
     "name": "stdout",
     "output_type": "stream",
     "text": [
      "Need to change above to echo_volume_requested\n",
      "Need to change above to echo_volume_requested\n",
      "Need to change above to echo_volume_requested\n",
      "Source Plate Volumes:\n",
      "\tWell: A1 [ Mat1 ]= 200.0 volume =  58625.0 filled on 19/10/2019\n",
      "\tWell: A2 [ Mat2 ]= 500.0 volume =  62450.0 filled on 19/10/2019\n",
      "\tWell: A03 [ water ]= 1.0 volume =  21000.0 filled on 19/10/2019\n",
      "\tWell: A05 [ water ]= 1.0 volume =  21000.0 filled on 19/10/2019\n",
      "\tWell: A06 [ water ]= 1.0 volume =  21000.0 filled on 19/10/2019\n",
      "\tWell: A08 [ water ]= 1.0 volume =  21000.0 filled on 19/10/2019\n",
      "\tWell: A09 [ water ]= 1.0 volume =  21000.0 filled on 19/10/2019\n",
      "\tWell: A10 [ water ]= 1.0 volume =  21000.0 filled on 19/10/2019\n",
      "\tWell: A04 [ water ]= 1.0 volume =  21000.0 filled on 19/10/2019\n",
      "\tWell: A07 [ water ]= 1.0 volume =  21000.0 filled on 19/10/2019\n",
      "\tWell: A11 [ water ]= 1.0 volume =  21000.0 filled on 19/10/2019\n",
      "\tWell: A12 [ water ]= 1.0 volume =  21000.0 filled on 19/10/2019\n",
      "\tWell: A13 [ water ]= 1.0 volume =  21000.0 filled on 19/10/2019\n",
      "Need to change above to echo_volume_requested\n",
      "Need to change above to echo_volume_requested\n",
      "Need to change above to echo_volume_requested\n",
      "Source Plate Volumes:\n",
      "\tWell: A1 [ Mat1 ]= 200.0 volume =  37125.0 filled on 19/10/2019\n",
      "\tWell: A2 [ Mat2 ]= 500.0 volume =  53850.0 filled on 19/10/2019\n",
      "\tWell: A03 [ water ]= 1.0 volume =  21000.0 filled on 19/10/2019\n",
      "\tWell: A05 [ water ]= 1.0 volume =  21000.0 filled on 19/10/2019\n",
      "\tWell: A06 [ water ]= 1.0 volume =  21000.0 filled on 19/10/2019\n",
      "\tWell: A08 [ water ]= 1.0 volume =  21000.0 filled on 19/10/2019\n",
      "\tWell: A09 [ water ]= 1.0 volume =  21000.0 filled on 19/10/2019\n",
      "\tWell: A10 [ water ]= 1.0 volume =  21000.0 filled on 19/10/2019\n",
      "\tWell: A04 [ water ]= 1.0 volume =  21000.0 filled on 19/10/2019\n",
      "\tWell: A07 [ water ]= 1.0 volume =  21000.0 filled on 19/10/2019\n",
      "\tWell: A11 [ water ]= 1.0 volume =  21000.0 filled on 19/10/2019\n",
      "\tWell: A12 [ water ]= 1.0 volume =  21000.0 filled on 19/10/2019\n",
      "\tWell: A13 [ water ]= 1.0 volume =  21000.0 filled on 19/10/2019\n",
      "\tWell: A15 [ water ]= 1.0 volume =  21000.0 filled on 19/10/2019\n",
      "Need to change above to echo_volume_requested\n",
      "Need to change above to echo_volume_requested\n",
      "Need to change above to echo_volume_requested\n",
      "Source Plate Volumes:\n",
      "\tWell: A1 [ Mat1 ]= 200.0 volume =  21000.0 filled on 19/10/2019\n",
      "\tWell: A2 [ Mat2 ]= 500.0 volume =  36700.0 filled on 19/10/2019\n",
      "\tWell: A03 [ water ]= 1.0 volume =  21000.0 filled on 19/10/2019\n",
      "\tWell: A05 [ water ]= 1.0 volume =  21000.0 filled on 19/10/2019\n",
      "\tWell: A06 [ water ]= 1.0 volume =  21000.0 filled on 19/10/2019\n",
      "\tWell: A08 [ water ]= 1.0 volume =  21000.0 filled on 19/10/2019\n",
      "\tWell: A09 [ water ]= 1.0 volume =  21000.0 filled on 19/10/2019\n",
      "\tWell: A10 [ water ]= 1.0 volume =  21000.0 filled on 19/10/2019\n",
      "\tWell: A04 [ water ]= 1.0 volume =  21000.0 filled on 19/10/2019\n",
      "\tWell: A07 [ water ]= 1.0 volume =  21000.0 filled on 19/10/2019\n",
      "\tWell: A11 [ water ]= 1.0 volume =  21000.0 filled on 19/10/2019\n",
      "\tWell: A12 [ water ]= 1.0 volume =  21000.0 filled on 19/10/2019\n",
      "\tWell: A13 [ water ]= 1.0 volume =  21000.0 filled on 19/10/2019\n",
      "\tWell: A15 [ water ]= 1.0 volume =  21000.0 filled on 19/10/2019\n",
      "\tWell: A17 [ Mat1 ]= 200.0 volume =  21000.0 filled on 19/10/2019\n",
      "\tWell: A19 [ water ]= 1.0 volume =  21000 filled on 19/10/2019\n",
      "\tWell: A20 [ water ]= 1.0 volume =  21000.0 filled on 19/10/2019\n"
     ]
    },
    {
     "name": "stderr",
     "output_type": "stream",
     "text": [
      "C:\\Users\\wp_ix\\Anaconda3\\lib\\site-packages\\murraylab_tools-0.1-py3.7.egg\\murraylab_tools\\echo\\echo_functions.py:174: UserWarning: Requesting 0 volume from material water into well A1; are you sure you want to do this?\n",
      "  \"you want to do this?\")\n",
      "C:\\Users\\wp_ix\\Anaconda3\\lib\\site-packages\\murraylab_tools-0.1-py3.7.egg\\murraylab_tools\\echo\\echo_functions.py:174: UserWarning: Requesting 0 volume from material water into well B1; are you sure you want to do this?\n",
      "  \"you want to do this?\")\n",
      "C:\\Users\\wp_ix\\Anaconda3\\lib\\site-packages\\murraylab_tools-0.1-py3.7.egg\\murraylab_tools\\echo\\echo_functions.py:174: UserWarning: Requesting 0 volume from material water into well A2; are you sure you want to do this?\n",
      "  \"you want to do this?\")\n",
      "C:\\Users\\wp_ix\\Anaconda3\\lib\\site-packages\\murraylab_tools-0.1-py3.7.egg\\murraylab_tools\\echo\\echo_functions.py:174: UserWarning: Requesting 0 volume from material water into well B2; are you sure you want to do this?\n",
      "  \"you want to do this?\")\n"
     ]
    }
   ],
   "source": [
    "echo_calc = mt_echo.EchoRun(plate = reusable_plate)\n",
    "\n",
    "N_experiments = 3\n",
    "for n in range(N_experiments):\n",
    "    \n",
    "    #Generate a random experiment in three wells\n",
    "    random_concentrations = np.random.rand(2)*100\n",
    "    \n",
    "    well1 = \"A\"+str(n+1)\n",
    "    well2 = \"B\"+str(n+1)\n",
    "    echo_calc.add_material_to_well(mat1, random_concentrations[0], well1)\n",
    "    echo_calc.add_material_to_well(mat2, random_concentrations[1], well1)\n",
    "    echo_calc.fill_well_with(well1, water) #Fill the rest of well1 with water\n",
    "\n",
    "    echo_calc.add_material_to_well(mat1, random_concentrations[1], well2)\n",
    "    echo_calc.add_material_to_well(mat2, random_concentrations[0], well2)\n",
    "    echo_calc.fill_well_with(well2, water) #Fill the rest of well2 with water\n",
    "\n",
    "    # Write results\n",
    "    echo_calc.write_picklist(output_name+str(n))\n",
    "    \n",
    "    print(\"Source Plate Volumes:\")\n",
    "    for well in reusable_plate.wells_used:\n",
    "        name, conc, vol, date = reusable_plate.wells_used[well]\n",
    "        print(\"\\tWell:\", well, \"[\", name,\"]=\", conc, \"volume = \", vol, \"filled on\", date)"
   ]
  },
  {
   "cell_type": "markdown",
   "metadata": {},
   "source": [
    "## Refilling Wells\n",
    "\n",
    "Sometimes, especially with valuable reagents, it makes sense to refill wells in a source plate. This can be done provided that the same material with the same concentration is put into an old well. Below, we refill all the wells A1, A2, and A3 filled to their maximum amounts. If one attempts to overfill a well or add a different material (or a different concentration of the same material) to a well which has already been filled, an error is thrown."
   ]
  },
  {
   "cell_type": "code",
   "execution_count": 3,
   "metadata": {
    "collapsed": false
   },
   "outputs": [
    {
     "name": "stdout",
     "output_type": "stream",
     "text": [
      "Initial Well Volumes:\n",
      "\tWell: A1 [ Mat1 ]= 200.0 volume =  21000.0 filled on 19/10/2019\n",
      "\tWell: A2 [ Mat2 ]= 500.0 volume =  36700.0 filled on 19/10/2019\n",
      "\n",
      "Refilling...\n",
      "Refilling Well A1 with additional material Mat1.\n",
      "Refilling Well A2 with additional material Mat2.\n",
      "\n",
      "Final Volumes after being refilled:\n",
      "\tWell: A1 [ Mat1 ]= 200.0 volume =  65000.0 filled on 19/10/2019\n",
      "\tWell: A2 [ Mat2 ]= 500.0 volume =  65000.0 filled on 19/10/2019\n"
     ]
    }
   ],
   "source": [
    "materials = [mat1, mat2]\n",
    "wells = [\"A1\", \"A2\"]\n",
    "print(\"Initial Well Volumes:\")\n",
    "for well in [\"A1\", \"A2\"]:\n",
    "    name, conc, vol, date = reusable_plate.wells_used[well]\n",
    "    print(\"\\tWell:\", well, \"[\", name,\"]=\", conc, \"volume = \", vol, \"filled on\", date)\n",
    "    \n",
    "    \n",
    "print(\"\\nRefilling...\")\n",
    "#Refill wells\n",
    "for i in range(len(wells)):\n",
    "    well = wells[i]\n",
    "    mat = materials[i]\n",
    "    name, conc, vol, date = reusable_plate.wells_used[well]\n",
    "    reusable_plate.add_material_to_well(well, mat, mt_echo.max_volume - vol)\n",
    "\n",
    "print(\"\\nFinal Volumes after being refilled:\")\n",
    "for well in [\"A1\", \"A2\"]:\n",
    "    name, conc, vol, date = reusable_plate.wells_used[well]\n",
    "    print(\"\\tWell:\", well, \"[\", name,\"]=\", conc, \"volume = \", vol, \"filled on\", date)\n",
    "\n",
    "reusable_plate.write_to_file()"
   ]
  },
  {
   "cell_type": "code",
   "execution_count": null,
   "metadata": {
    "collapsed": true
   },
   "outputs": [],
   "source": []
  }
 ],
 "metadata": {
  "kernelspec": {
   "display_name": "Python 3",
   "language": "python",
   "name": "python3"
  },
  "language_info": {
   "codemirror_mode": {
    "name": "ipython",
    "version": 3
   },
   "file_extension": ".py",
   "mimetype": "text/x-python",
   "name": "python",
   "nbconvert_exporter": "python",
   "pygments_lexer": "ipython3",
   "version": "3.6.8"
  }
 },
 "nbformat": 4,
 "nbformat_minor": 2
}
